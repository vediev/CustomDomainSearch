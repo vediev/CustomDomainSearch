{
 "cells": [
  {
   "cell_type": "markdown",
   "metadata": {
    "deletable": true,
    "editable": true
   },
   "source": [
    "# This notebook shows how you can get upload a synonym map (created in a previous step) to an Azure Search service and associate it with a specific Azure Search index. This can be used to augment a downstream search operation. #"
   ]
  },
  {
   "cell_type": "code",
   "execution_count": 1,
   "metadata": {
    "collapsed": true,
    "deletable": true,
    "editable": true
   },
   "outputs": [],
   "source": [
    "\"\"\"\n",
    "See Azure Search REST API docs for more info:\n",
    "    https://docs.microsoft.com/en-us/rest/api/searchservice/index\n",
    "\"\"\"\n",
    "import requests\n",
    "import logging\n",
    "import json\n",
    "import pandas as pd"
   ]
  },
  {
   "cell_type": "markdown",
   "metadata": {
    "deletable": true,
    "editable": true
   },
   "source": [
    "** Enter below your service and index names and API key **"
   ]
  },
  {
   "cell_type": "code",
   "execution_count": 2,
   "metadata": {
    "collapsed": true,
    "deletable": true,
    "editable": true
   },
   "outputs": [],
   "source": [
    "# This is the service and index already created in Azure Portal\n",
    "serviceName = \"eyazuresearch2017\"\n",
    "indexName = \"mh-eytaxidxer-synonymc512\"\n",
    "apiVersion = \"2016-09-01-Preview\"\n",
    "\n",
    "# API key of the service subscription\n",
    "apiKey = \"XXXXXXXXXXXXXXXXXXXXXX\""
   ]
  },
  {
   "cell_type": "markdown",
   "metadata": {
    "deletable": true,
    "editable": true
   },
   "source": [
    "** Enter below the synonym map file location **"
   ]
  },
  {
   "cell_type": "code",
   "execution_count": 3,
   "metadata": {
    "collapsed": true,
    "deletable": true,
    "editable": true
   },
   "outputs": [],
   "source": [
    "INPUT_FILE = \"keywords_synonym.txt\"\n",
    "file = open(INPUT_FILE,'r')\n",
    "all_text = file.read()\n",
    "file.close()"
   ]
  },
  {
   "cell_type": "markdown",
   "metadata": {
    "deletable": true,
    "editable": true
   },
   "source": [
    "** Create a POST request to upload the synonym map to the existing search service above. Call it synonym-map. **"
   ]
  },
  {
   "cell_type": "code",
   "execution_count": 5,
   "metadata": {
    "collapsed": false,
    "deletable": true,
    "editable": true
   },
   "outputs": [
    {
     "name": "stderr",
     "output_type": "stream",
     "text": [
      "DEBUG:requests.packages.urllib3.connectionpool:Starting new HTTPS connection (1): eyazuresearch2017.search.windows.net\n",
      "DEBUG:requests.packages.urllib3.connectionpool:https://eyazuresearch2017.search.windows.net:443 \"POST /synonymmaps?api-version=2016-09-01-Preview HTTP/1.1\" 201 7415\n"
     ]
    },
    {
     "name": "stdout",
     "output_type": "stream",
     "text": [
      "<Response [201]> {\"@odata.context\":\"https://eyazuresearch2017.search.windows.net/$metadata#synonymmaps/$entity\",\"@odata.etag\":\"\\\"0x8D4BCC5C10D5AB5\\\"\",\"name\":\"synonym-map\",\"format\":\"solr\",\"synonyms\":\"AAA, Accumulated Adjustment Account\\nAcq., Acquiescence\\nACRS, Accelerated Cost Recovery System\\nADR, Asset Depreciation Range\\nADLs, Activities of Daily Living\\nADS, Alternative Depreciation System\\nAFR, Applicable Federal Rate\\nAGI, Adjusted Gross Income\\nAIME, Average Indexed Monthly Earnings (Social Security)\\nAMT, Alternative Minimum Tax\\nAOD, Action on Decision\\nARM, Adjustable Rate Mortgage\\nATG, Audit Techniques Guide\\nCB, Cumulative Bulletin\\nCCA, Chief Council Advice\\nCC-ITA, Chief Council - Income Tax and Accounting\\nCCC, Commodity Credit Corporation\\nCCP, Counter-Cyclical Program (government farm program)\\nCDHP, Consumer-Driven Health Plan\\nCFR, Code of Federal Regulations\\nCLT, Charitable Lead Trust\\nCOBRA, Consolidated Omnibus Budget Reconciliations Act of 1985\\nCOGS, Cost of Goods Sold\\nCOLA, Cost of Living Adjustment\\nCONUS, Continental United States\\nCPI, Consurmer Price Index\\nCRT, Charitable Remainder Trust\\nCSRA, Community Spouse Resource Allowance\\nCSRS, Civil Service Retirement System\\nDOD, Date of Death\\nDOI, Discharge of Indebtedness\\nDP, Direct Payment (government farm program)\\nDPAD, Domestic Production Activities Deduction\\nDPAI, Domestic Production Activities Income\\nDPAR, Domestic Production Activities Receipts\\nDPGR, Domestic Production Gross Receipts\\nEFIN, Electronic Filing Identification Number\\nEFT, Electronic Funds Transfer\\nEFTPS, Electronic Federal Tax Payment System\\nEIC, Earned Income Credit\\nEIN, Employer Identification Number\\nf/b/o, For Benefit Of or For and On Behalf Of\\nFICA, Federal Insurance Contribution Act\\nFIFO, First In First Out\\nFLP, Family Limited Partnership\\nFMV, Fair Market Value\\nFR, Federal Register\\nFS, IRS Fact Sheets (example: FS-2005-10)\\nFSA, Flexible Spending Account or Farm Service Agency\\nFTD, Federal Tax Deposit\\nFUTA, Federal Unemployment Tax Act\\nGCM, General Counsel Memorandum\\nGDS, General Depreciation System\\nHDHP, High Deductible Health Plan\\nHOH, Head of Household\\nHRA, Health Reimbursement Account\\nHSA, Health Savings Account\\nIDC, Intangible Drilling Costs\\nILIT, Irrevocable Life Insurance Trust\\nIR, IRS News Releases (example: IR-2005-2)\\nIRA, Individual Retirement Arrangement\\nIRB, Internal Revenue Bulletin\\nIRC, Internal Revenue Code\\nIRD, Income In Respect of Decedent\\nIRP, Information Reporting Program\\nITA, Income Tax and Accounting\\nITIN, Individual Taxpayer Identification Number\\nLDP, Loan Deficiency Payment\\nLIFO, Last In First Out\\nLLC, Limited Liability Company\\nLLLP, Limited Liability Limited Partnership\\nLP, Limited Partnership\\nMACRS, Modified Accelerated Cost Recovery System\\nMAGI, Modified Adjusted Gross Income\\nMFJ, Married Filing Jointly\\nMMMNA, Minimum Monthly Maintenance Needs Allowance\\nMRD, Minimum Required Distribution\\nMSA, Medical Savings Account (Archer MSA)\\nMSSP, Market Segment Specialization Program\\nNAICS, North American Industry Classification System\\nNOL, Net Operating Loss\\nOASDI, Old Age Survivor and Disability Insurance\\nOIC, Offer in Compromise\\nOID, Original Issue Discount\\nPATR, Patronage Dividend\\nPBA, Principal Business Activity\\nPCP, Posted County Price, also referred to as AWP - adjusted world price\\nPHC, Personal Holding Company\\nPIA, Primary Insurance Amount (Social Security)\\nPLR, Private Letter Ruling\\nPOD, Payable on Death\\nPSC, Public Service Corporation\\nQTIP, Qualified Terminable Interest Property\\nRBD, Required Beginning Date\\nREIT, Real Estate Investment Trust\\nRMD, Required Minimum Distribution\\nSCA, Service Center Advice\\nSCIN, Self-Canceling Installment Note\\nSE, Self Employment\\nSEP, Simplified Employee Pension\\nSIC, Service Industry Code\\nSIMPLE, Savings Incentive Match Plan for Employees\\nSL, Straight-Line Depreciation\\nSMLLC, Single Member LLC\\nSSA, Social Security Administration\\nSSI, Supplemental Security Income\\nSSN, Social Security Number\\nSUTA, State Unemployment Tax Act\\nTC, Tax Court\\nTCMP, Taxpayer Compliance Measurement Program\\nTD, Treasury Decision\\nTIN, Taxpayer Identification Number\\nTIR, Technical Information Release\\nTOD, Transfer on Death\\nUSC, United States Code\\nU/D/T, Under Declaration of Trust\\nUNICAP, Uniform Capitalization Rules\\nUTMA, Uniform Transfers to Minors Act\\nVITA, Volunteer Income Tax Assistance\\nGO Zone, Gulf Opportunity Zone\\nCt. D., Court Decision\\nLtr. Rul., Letter Rulings\\nProp. Reg., Proposed Treasury Regulations\\nPub. L., Public Law\\nRev. Proc., Revenue Procedure\\nRev. Rul., Revenue Ruling\\ntravel agency=>holiday company,travel bureau\\nsale=>purchase,transaction,deal,business,auction\\nfriend=>colleague,acquaintance,buddy,associate,companion\\ndiscussions=>conference,dialogue,deliberation,exchange,review\\nmany kinds=>womankinds\\ndeath=>ruination,decease,downfall,dissolution,repose\\nform=>style,fashion,pattern,system,design\\nsubject=>exposed,susceptible,conditional,accountable,apt\\ntaxable=>payable,chargeable,due,assessable,dutiable\\ninvolved=>muddled,elaborate,sophisticated,winding,tangled\\nhostess=>host,lady of the house,M.C. emcee,mistress of ceremonies,mistress of the household\\ntaxation=>duty,tariff,tax,assessment,tax collection\\nvegetables=>produce,salad,edible,yellow,truck\\nkind=>sympathetic,affectionate,charitable,amiable,kindly\\nfollowed=>pursue,supervene,supersede,displace,replace\\ntaxpayer=>voter,civilian,resident,national,settler\\ngross income=>gross earnings,taxable income\\nincome=>salary,wage,revenue,profit,pay\\nregular=>formal,daily,traditional,legitimate,routine\\nfree trip=>feretories,fleatrap,fly trap,fog drip,rattrap\\nthings=>stuff,goods,gear,baggage,effects\\njury pay=>jury,repay,jumpy,jural,prepay\\ntax law=>tackle,taxable,taxiway,axillae,tax\\ncourse=>development,series,system,program,plan\\ndifference=>diversity,characteristic,divergence,variation,contrast\\nanything=>everything,all,whatever,any one thing,anything at all\\nincluded=>numbered,involved,enclosed,incorporated,covered\\nproperty=>plot,land,wealth,estate,farm\\ngarden=>bed,field,nursery,terrace,patio\\nservices=>duty,use,office,business,supply\\nitems=>information,component,feature,element,thing\\nhost=>owner,moderator,manager,entertainer,anchor\\ntourists=>visitor,sightseer,traveler,rubberneck,stranger\\ngroup=>body,crowd,faction,club,company\\ncontinuous=>extended,unceasing,steady,repeated,regular\\nsubstantial basis=>substantializes\\ninsured=>protected,guaranteed,covered,warranted\\ntaxable income=>gross earnings\\nmoney=>salary,wage,wealth,pay,bill\\nexcluded=>prohibit,rule out,suspend,bar,prevent\\neat=>feed,chew,dine,inhale,bite\\noperations=>affair,use,transaction,force,deal\\nshown=>exposed,presented,displayed,advertised,exhibited\\ngain=>advance,cut,return,advantage,profit\\nvalue=>profit,price,rate,amount,cost\\nreturn=>arrival,entry,rebound,restoration,recovery\\nroyalties=>power,primacy,rank,supremacy,authority\\ndiscussion=>conference,dialogue,deliberation,exchange,review\\nsalary=>wage,fee,pay,stipend,earnings\\nlottery=>raffle,gambling,chance,game of chance,sweepstake\\nlot=>piece,area,field,portion,part\\norganizing=>run,formulate,form,set up,create\\ninheritances=>legacy,bequest,estate,heritage,devise\\nreported=>recorded,noted,announced,rumored,said\\ninterest=>importance,significance,sympathy,passion,activity\\nbook=>essay,album,novel,publication,dictionary\\n\"}\n"
     ]
    }
   ],
   "source": [
    "body= \"{\\\"name\\\":\\\"synonym-map\\\",\\\"format\\\":\\\"solr\\\",\\\"synonyms\\\": \\\"%s\\\"}\" %(all_text)\n",
    "\n",
    "logging.basicConfig()\n",
    "logging.getLogger().setLevel(logging.DEBUG)\n",
    "requests_log = logging.getLogger(\"requests.packages.urllib3\")\n",
    "requests_log.setLevel(logging.DEBUG)\n",
    "requests_log.propagate = True\n",
    "\n",
    "def getServiceUrl():\n",
    "    return \"https://\" + serviceName + \".search.windows.net\"\n",
    "\n",
    "def postMethod(body):\n",
    "    headers = {\"Content-type\": \"application/json\", \"api-key\": apiKey}\n",
    "    servicePath =\"/synonymmaps?api-version=%s\" %(apiVersion)\n",
    "    r = requests.post(getServiceUrl() + servicePath, headers=headers, data=body)\n",
    "    print(r, r.text)\n",
    "    return r\n",
    "\n",
    "r = postMethod(body)"
   ]
  },
  {
   "cell_type": "markdown",
   "metadata": {
    "deletable": true,
    "editable": true
   },
   "source": [
    "** Create a PUT request to associate the uploaded synonym map with a specific index defined at the top. **"
   ]
  },
  {
   "cell_type": "code",
   "execution_count": 6,
   "metadata": {
    "collapsed": true,
    "deletable": true,
    "editable": true
   },
   "outputs": [],
   "source": [
    "put_body =json.dumps({\n",
    "        \"name\": indexName,  \n",
    "        \"fields\": [\n",
    "        {\"name\": \"Index\", \"type\": \"Edm.String\", \"key\": True, \"retrievable\": True, \"searchable\": False, \"filterable\": False, \"sortable\": True, \"facetable\": False},\n",
    "\n",
    "        {\"name\": \"File\", \"type\": \"Edm.String\", \"retrievable\": True, \"searchable\": False, \"filterable\": True, \"sortable\": True, \"facetable\": False},\n",
    "\n",
    "        {\"name\": \"Chapter\", \"type\": \"Edm.String\", \"retrievable\": True, \"searchable\": False, \"filterable\": True, \"sortable\": True, \"facetable\": False},\n",
    "\n",
    "        {\"name\": \"Title\", \"type\": \"Edm.String\", \"retrievable\": True, \"searchable\": True, \"filterable\": True, \"sortable\": True, \"facetable\": True},\n",
    "\n",
    "        {\"name\": \"SectionTitle\", \"type\": \"Edm.String\", \"retrievable\": True, \"searchable\": True, \"filterable\": True, \"sortable\": False, \"facetable\": True},\n",
    "\n",
    "        {\"name\": \"SubsectionTitle\", \"type\": \"Edm.String\", \"retrievable\": True, \"searchable\": True, \"filterable\": True, \"sortable\": True, \"facetable\": False},\n",
    "\n",
    "        {\"name\": \"Source\", \"type\": \"Edm.String\", \"retrievable\": True, \"searchable\": False, \"filterable\": False, \"sortable\": True, \"facetable\": True},\n",
    "\n",
    "        {\"name\": \"FeatureType\", \"type\": \"Edm.String\", \"retrievable\": True, \"searchable\": False, \"filterable\": True, \"sortable\": True, \"facetable\": True},\n",
    "\n",
    "        {\"name\": \"ParaText\", \"type\": \"Edm.String\", \"retrievable\": True, \"searchable\": True, \"filterable\": False, \"sortable\": False, \"facetable\": False, \"analyzer\": \"en.microsoft\"},\n",
    "\n",
    "        {\"name\": \"Keywords\", \"type\": \"Edm.String\", \"retrievable\": True, \"searchable\": True, \"filterable\": False, \"sortable\": False, \"facetable\": False, \"analyzer\": \"en.microsoft\",\"synonymMaps\":[\"synonym-map\"]}\n",
    "        ]\n",
    "    })"
   ]
  },
  {
   "cell_type": "code",
   "execution_count": 8,
   "metadata": {
    "collapsed": false,
    "deletable": true,
    "editable": true
   },
   "outputs": [
    {
     "name": "stderr",
     "output_type": "stream",
     "text": [
      "DEBUG:requests.packages.urllib3.connectionpool:Starting new HTTPS connection (1): eyazuresearch2017.search.windows.net\n",
      "DEBUG:requests.packages.urllib3.connectionpool:https://eyazuresearch2017.search.windows.net:443 \"PUT /indexes/mh-eytaxidxer-synonymc512?api-version=2016-09-01-Preview HTTP/1.1\" 204 0\n"
     ]
    },
    {
     "name": "stdout",
     "output_type": "stream",
     "text": [
      "<Response [204]> \n"
     ]
    }
   ],
   "source": [
    "def putMethod(body):\n",
    "    headers = {\"Content-type\": \"application/json\", \"api-key\": apiKey}\n",
    "    servicePath =\"/indexes/%s?api-version=%s\" %(indexName,apiVersion)\n",
    "    r = requests.put(getServiceUrl() + servicePath, headers=headers, data=put_body)\n",
    "    print(r, r.text)\n",
    "    return r\n",
    "\n",
    "r = putMethod(body)"
   ]
  },
  {
   "cell_type": "markdown",
   "metadata": {
    "deletable": true,
    "editable": true
   },
   "source": [
    "** Check if the synonym map was uploaded successfully. **"
   ]
  },
  {
   "cell_type": "code",
   "execution_count": 10,
   "metadata": {
    "collapsed": false,
    "deletable": true,
    "editable": true
   },
   "outputs": [
    {
     "name": "stderr",
     "output_type": "stream",
     "text": [
      "DEBUG:requests.packages.urllib3.connectionpool:Starting new HTTPS connection (1): eyazuresearch2017.search.windows.net\n",
      "DEBUG:requests.packages.urllib3.connectionpool:https://eyazuresearch2017.search.windows.net:443 \"GET /synonymmaps/synonym-map?api-version=2016-09-01-Preview HTTP/1.1\" 200 4230\n"
     ]
    },
    {
     "name": "stdout",
     "output_type": "stream",
     "text": [
      "<Response [200]> {\"@odata.context\":\"https://eyazuresearch2017.search.windows.net/$metadata#synonymmaps/$entity\",\"@odata.etag\":\"\\\"0x8D4BCC5C10D5AB5\\\"\",\"name\":\"synonym-map\",\"format\":\"solr\",\"synonyms\":\"AAA, Accumulated Adjustment Account\\nAcq., Acquiescence\\nACRS, Accelerated Cost Recovery System\\nADR, Asset Depreciation Range\\nADLs, Activities of Daily Living\\nADS, Alternative Depreciation System\\nAFR, Applicable Federal Rate\\nAGI, Adjusted Gross Income\\nAIME, Average Indexed Monthly Earnings (Social Security)\\nAMT, Alternative Minimum Tax\\nAOD, Action on Decision\\nARM, Adjustable Rate Mortgage\\nATG, Audit Techniques Guide\\nCB, Cumulative Bulletin\\nCCA, Chief Council Advice\\nCC-ITA, Chief Council - Income Tax and Accounting\\nCCC, Commodity Credit Corporation\\nCCP, Counter-Cyclical Program (government farm program)\\nCDHP, Consumer-Driven Health Plan\\nCFR, Code of Federal Regulations\\nCLT, Charitable Lead Trust\\nCOBRA, Consolidated Omnibus Budget Reconciliations Act of 1985\\nCOGS, Cost of Goods Sold\\nCOLA, Cost of Living Adjustment\\nCONUS, Continental United States\\nCPI, Consurmer Price Index\\nCRT, Charitable Remainder Trust\\nCSRA, Community Spouse Resource Allowance\\nCSRS, Civil Service Retirement System\\nDOD, Date of Death\\nDOI, Discharge of Indebtedness\\nDP, Direct Payment (government farm program)\\nDPAD, Domestic Production Activities Deduction\\nDPAI, Domestic Production Activities Income\\nDPAR, Domestic Production Activities Receipts\\nDPGR, Domestic Production Gross Receipts\\nEFIN, Electronic Filing Identification Number\\nEFT, Electronic Funds Transfer\\nEFTPS, Electronic Federal Tax Payment System\\nEIC, Earned Income Credit\\nEIN, Employer Identification Number\\nf/b/o, For Benefit Of or For and On Behalf Of\\nFICA, Federal Insurance Contribution Act\\nFIFO, First In First Out\\nFLP, Family Limited Partnership\\nFMV, Fair Market Value\\nFR, Federal Register\\nFS, IRS Fact Sheets (example: FS-2005-10)\\nFSA, Flexible Spending Account or Farm Service Agency\\nFTD, Federal Tax Deposit\\nFUTA, Federal Unemployment Tax Act\\nGCM, General Counsel Memorandum\\nGDS, General Depreciation System\\nHDHP, High Deductible Health Plan\\nHOH, Head of Household\\nHRA, Health Reimbursement Account\\nHSA, Health Savings Account\\nIDC, Intangible Drilling Costs\\nILIT, Irrevocable Life Insurance Trust\\nIR, IRS News Releases (example: IR-2005-2)\\nIRA, Individual Retirement Arrangement\\nIRB, Internal Revenue Bulletin\\nIRC, Internal Revenue Code\\nIRD, Income In Respect of Decedent\\nIRP, Information Reporting Program\\nITA, Income Tax and Accounting\\nITIN, Individual Taxpayer Identification Number\\nLDP, Loan Deficiency Payment\\nLIFO, Last In First Out\\nLLC, Limited Liability Company\\nLLLP, Limited Liability Limited Partnership\\nLP, Limited Partnership\\nMACRS, Modified Accelerated Cost Recovery System\\nMAGI, Modified Adjusted Gross Income\\nMFJ, Married Filing Jointly\\nMMMNA, Minimum Monthly Maintenance Needs Allowance\\nMRD, Minimum Required Distribution\\nMSA, Medical Savings Account (Archer MSA)\\nMSSP, Market Segment Specialization Program\\nNAICS, North American Industry Classification System\\nNOL, Net Operating Loss\\nOASDI, Old Age Survivor and Disability Insurance\\nOIC, Offer in Compromise\\nOID, Original Issue Discount\\nPATR, Patronage Dividend\\nPBA, Principal Business Activity\\nPCP, Posted County Price, also referred to as AWP - adjusted world price\\nPHC, Personal Holding Company\\nPIA, Primary Insurance Amount (Social Security)\\nPLR, Private Letter Ruling\\nPOD, Payable on Death\\nPSC, Public Service Corporation\\nQTIP, Qualified Terminable Interest Property\\nRBD, Required Beginning Date\\nREIT, Real Estate Investment Trust\\nRMD, Required Minimum Distribution\\nSCA, Service Center Advice\\nSCIN, Self-Canceling Installment Note\\nSE, Self Employment\\nSEP, Simplified Employee Pension\\nSIC, Service Industry Code\\nSIMPLE, Savings Incentive Match Plan for Employees\\nSL, Straight-Line Depreciation\\nSMLLC, Single Member LLC\\nSSA, Social Security Administration\\nSSI, Supplemental Security Income\\nSSN, Social Security Number\\nSUTA, State Unemployment Tax Act\\nTC, Tax Court\\nTCMP, Taxpayer Compliance Measurement Program\\nTD, Treasury Decision\\nTIN, Taxpayer Identification Number\\nTIR, Technical Information Release\\nTOD, Transfer on Death\\nUSC, United States Code\\nU/D/T, Under Declaration of Trust\\nUNICAP, Uniform Capitalization Rules\\nUTMA, Uniform Transfers to Minors Act\\nVITA, Volunteer Income Tax Assistance\\nGO Zone, Gulf Opportunity Zone\\nCt. D., Court Decision\\nLtr. Rul., Letter Rulings\\nProp. Reg., Proposed Treasury Regulations\\nPub. L., Public Law\\nRev. Proc., Revenue Procedure\\nRev. Rul., Revenue Ruling\\ntravel agency=>holiday company,travel bureau\\nsale=>purchase,transaction,deal,business,auction\\nfriend=>colleague,acquaintance,buddy,associate,companion\\ndiscussions=>conference,dialogue,deliberation,exchange,review\\nmany kinds=>womankinds\\ndeath=>ruination,decease,downfall,dissolution,repose\\nform=>style,fashion,pattern,system,design\\nsubject=>exposed,susceptible,conditional,accountable,apt\\ntaxable=>payable,chargeable,due,assessable,dutiable\\ninvolved=>muddled,elaborate,sophisticated,winding,tangled\\nhostess=>host,lady of the house,M.C. emcee,mistress of ceremonies,mistress of the household\\ntaxation=>duty,tariff,tax,assessment,tax collection\\nvegetables=>produce,salad,edible,yellow,truck\\nkind=>sympathetic,affectionate,charitable,amiable,kindly\\nfollowed=>pursue,supervene,supersede,displace,replace\\ntaxpayer=>voter,civilian,resident,national,settler\\ngross income=>gross earnings,taxable income\\nincome=>salary,wage,revenue,profit,pay\\nregular=>formal,daily,traditional,legitimate,routine\\nfree trip=>feretories,fleatrap,fly trap,fog drip,rattrap\\nthings=>stuff,goods,gear,baggage,effects\\njury pay=>jury,repay,jumpy,jural,prepay\\ntax law=>tackle,taxable,taxiway,axillae,tax\\ncourse=>development,series,system,program,plan\\ndifference=>diversity,characteristic,divergence,variation,contrast\\nanything=>everything,all,whatever,any one thing,anything at all\\nincluded=>numbered,involved,enclosed,incorporated,covered\\nproperty=>plot,land,wealth,estate,farm\\ngarden=>bed,field,nursery,terrace,patio\\nservices=>duty,use,office,business,supply\\nitems=>information,component,feature,element,thing\\nhost=>owner,moderator,manager,entertainer,anchor\\ntourists=>visitor,sightseer,traveler,rubberneck,stranger\\ngroup=>body,crowd,faction,club,company\\ncontinuous=>extended,unceasing,steady,repeated,regular\\nsubstantial basis=>substantializes\\ninsured=>protected,guaranteed,covered,warranted\\ntaxable income=>gross earnings\\nmoney=>salary,wage,wealth,pay,bill\\nexcluded=>prohibit,rule out,suspend,bar,prevent\\neat=>feed,chew,dine,inhale,bite\\noperations=>affair,use,transaction,force,deal\\nshown=>exposed,presented,displayed,advertised,exhibited\\ngain=>advance,cut,return,advantage,profit\\nvalue=>profit,price,rate,amount,cost\\nreturn=>arrival,entry,rebound,restoration,recovery\\nroyalties=>power,primacy,rank,supremacy,authority\\ndiscussion=>conference,dialogue,deliberation,exchange,review\\nsalary=>wage,fee,pay,stipend,earnings\\nlottery=>raffle,gambling,chance,game of chance,sweepstake\\nlot=>piece,area,field,portion,part\\norganizing=>run,formulate,form,set up,create\\ninheritances=>legacy,bequest,estate,heritage,devise\\nreported=>recorded,noted,announced,rumored,said\\ninterest=>importance,significance,sympathy,passion,activity\\nbook=>essay,album,novel,publication,dictionary\\n\"}\n"
     ]
    },
    {
     "data": {
      "text/plain": [
       "<Response [200]>"
      ]
     },
     "execution_count": 10,
     "metadata": {},
     "output_type": "execute_result"
    }
   ],
   "source": [
    "def getSynonyms():\n",
    "    #servicePath = '/indexers/%s?api-version=%s' % (indexName, apiVersion)\n",
    "    headers = {\"Content-type\": \"application/json\", \"api-key\": apiKey}\n",
    "    r = requests.get(\"https://eyazuresearch2017.search.windows.net/synonymmaps/synonym-map?api-version=2016-09-01-Preview\", headers=headers)\n",
    "    print(r, r.text)\n",
    "    return r\n",
    "\n",
    "getSynonyms()"
   ]
  },
  {
   "cell_type": "code",
   "execution_count": null,
   "metadata": {
    "collapsed": true,
    "deletable": true,
    "editable": true
   },
   "outputs": [],
   "source": []
  }
 ],
 "metadata": {
  "kernelspec": {
   "display_name": "Python 3.5",
   "language": "python",
   "name": "python3"
  },
  "language_info": {
   "codemirror_mode": {
    "name": "ipython",
    "version": 3
   },
   "file_extension": ".py",
   "mimetype": "text/x-python",
   "name": "python",
   "nbconvert_exporter": "python",
   "pygments_lexer": "ipython3",
   "version": "3.5.2"
  }
 },
 "nbformat": 4,
 "nbformat_minor": 2
}
