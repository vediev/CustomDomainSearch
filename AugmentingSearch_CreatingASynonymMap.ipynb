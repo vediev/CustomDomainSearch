{
 "cells": [
  {
   "cell_type": "markdown",
   "metadata": {
    "deletable": true,
    "editable": true
   },
   "source": [
    "# This notebook shows how you can get synonyms of key words/phrases by web-crawling Thesaurus.com and/or adding them manually. This can be used to augment a downstream search operation. #"
   ]
  },
  {
   "cell_type": "code",
   "execution_count": 14,
   "metadata": {
    "collapsed": true,
    "deletable": true,
    "editable": true
   },
   "outputs": [],
   "source": [
    "import pandas as pd\n",
    "import os\n",
    "import requests\n",
    "from bs4 import BeautifulSoup\n",
    "from collections import Counter"
   ]
  },
  {
   "cell_type": "markdown",
   "metadata": {
    "deletable": true,
    "editable": true
   },
   "source": [
    "# Part 1: Get synonyms of keywords from thesaurus.com #\n",
    "** Define a function to call and crawl thesearus.com. You pass in a word (which could be a phrase) and get back up to top N synonyms if they exist. You can also filter results by Part of Speech if you wish. \n",
    "Note: the advantage of crawling vs calling an API is that you can make unlimited free requests for getting synonyms.**"
   ]
  },
  {
   "cell_type": "code",
   "execution_count": 15,
   "metadata": {
    "collapsed": false,
    "deletable": true,
    "editable": true
   },
   "outputs": [
    {
     "data": {
      "text/plain": [
       "['welcome', 'howdy', 'hi', 'greetings', 'bonjour']"
      ]
     },
     "execution_count": 15,
     "metadata": {},
     "output_type": "execute_result"
    }
   ],
   "source": [
    "def get_web_syns(word, pos=None, n = 5):\n",
    "    if pos == None:\n",
    "        req = requests.get('http://www.thesaurus.com/browse/%s' % word)\n",
    "    else:\n",
    "        req = requests.get('http://www.thesaurus.com/browse/%s/%s' % (word, pos))\n",
    "\n",
    "    soup = BeautifulSoup(req.text, 'html.parser')\n",
    "    \n",
    "    all_syns = soup.find('div', {'class' : 'relevancy-list'})\n",
    "    syns = []\n",
    "    if all_syns == None:\n",
    "        return syns\n",
    "    for ul in all_syns.findAll('ul'):\n",
    "        for li in ul.findAll('span', {'class':'text'}):\n",
    "            syns.append(li.text.split(\",\")[0])\n",
    "    return syns[:n]\n",
    "\n",
    "# Example\n",
    "get_web_syns('hello')"
   ]
  },
  {
   "cell_type": "markdown",
   "metadata": {
    "deletable": true,
    "editable": true
   },
   "source": [
    "**Read in a sample input file, e.g. excel format. Show the raw raw text and keywords extracted columns: **"
   ]
  },
  {
   "cell_type": "code",
   "execution_count": 16,
   "metadata": {
    "collapsed": false,
    "deletable": true,
    "editable": true
   },
   "outputs": [
    {
     "name": "stdout",
     "output_type": "stream",
     "text": [
      "                                            ParaText  \\\n",
      "0  Your salary, interest you earn, dividends rece...   \n",
      "1  You must include on your return all items of i...   \n",
      "\n",
      "                                            Keywords  \n",
      "0  gross income, excluded, taxable income, passiv...  \n",
      "1  income, tax law, taxable, nontaxable, items, d...  \n"
     ]
    }
   ],
   "source": [
    "INPUT_FILE = \"raw_text_enriched_with_keywords_sample.xlsx\"\n",
    "df = pd.read_excel(INPUT_FILE)\n",
    "print(df[['ParaText','Keywords']])"
   ]
  },
  {
   "cell_type": "markdown",
   "metadata": {
    "deletable": true,
    "editable": true
   },
   "source": [
    "** We are going to extract all the keywords/phrases in the Keywords column, count frequency, and keep only keywords above a pre-defined threshold. Then, get the synonyms (if they exist) of each keyword, and save the resulting map to file: **"
   ]
  },
  {
   "cell_type": "code",
   "execution_count": 17,
   "metadata": {
    "collapsed": false,
    "deletable": true,
    "editable": true
   },
   "outputs": [
    {
     "name": "stdout",
     "output_type": "stream",
     "text": [
      "Number of keywords-synonym pairs before cleaning: 66\n",
      "Number of keywords-synonym pairs after cleaning: 56\n",
      "{' travel agency': ['holiday company', 'travel bureau'], ' friend': ['colleague', 'acquaintance', 'buddy', 'associate', 'companion'], ' discussions': ['conference', 'dialogue', 'deliberation', 'exchange', 'review'], ' many kinds': ['womankinds'], ' sale': ['purchase', 'transaction', 'deal', 'business', 'auction']}\n"
     ]
    }
   ],
   "source": [
    "MIN_KEYWORD_COUNT = 1\n",
    "keywords_list = df[\"Keywords\"].tolist()\n",
    "\n",
    "flattened_keywords_list = []\n",
    "for sublist in keywords_list:\n",
    "    for val in sublist.split(\",\"):\n",
    "        flattened_keywords_list.append(val)\n",
    "        \n",
    "keywords_count = Counter(flattened_keywords_list)\n",
    "keywords_filtered = Counter(el for el in keywords_count.elements() if keywords_count[el] >=MIN_KEYWORD_COUNT)\n",
    "\n",
    "keyword_synonym = {keyword:get_web_syns(keyword) for keyword in keywords_filtered}\n",
    "#print(keyword_synonym)\n",
    "print(\"Number of keywords-synonym pairs before cleaning:\",len(keyword_synonym))\n",
    "\n",
    "# a helper function to identify and filter out keywords containing a digit - normally, you cannot find synonyms \n",
    "#for such words in thesaurus\n",
    "def hasNumbers(inputString):\n",
    "    return any(char.isdigit() for char in inputString)\n",
    "\n",
    "keyword_synonym_clean = {}\n",
    "for k,v in keyword_synonym.items():\n",
    "    if v!=[] and not hasNumbers(k):\n",
    "        keyword_synonym_clean[k]=v\n",
    "        \n",
    "print(\"Number of keywords-synonym pairs after cleaning:\",len(keyword_synonym_clean))\n",
    "# peek at a few keyword-synonyms pairs\n",
    "print(dict(list(keyword_synonym_clean.items())[0:5]))"
   ]
  },
  {
   "cell_type": "markdown",
   "metadata": {
    "deletable": true,
    "editable": true
   },
   "source": [
    "# Part 2: Manually adding synonym entries, typically for domain specific definitions #\n",
    "** Any synonym service would most like not be able to retrieve domain specific synonyms to acronym words. If you have such a domain specific acronym map, you can add it manually to your synonym map. **"
   ]
  },
  {
   "cell_type": "code",
   "execution_count": 18,
   "metadata": {
    "collapsed": true
   },
   "outputs": [],
   "source": [
    "# domain specific acronyms in the taxcode world\n",
    "acronym_dict = \"\"\"AAA, Accumulated Adjustment Account\n",
    "Acq., Acquiescence\n",
    "ACRS, Accelerated Cost Recovery System\n",
    "ADR, Asset Depreciation Range\n",
    "ADLs, Activities of Daily Living\n",
    "ADS, Alternative Depreciation System\n",
    "AFR, Applicable Federal Rate\n",
    "AGI, Adjusted Gross Income\n",
    "AIME, Average Indexed Monthly Earnings (Social Security)\n",
    "AMT, Alternative Minimum Tax\n",
    "AOD, Action on Decision\n",
    "ARM, Adjustable Rate Mortgage\n",
    "ATG, Audit Techniques Guide\n",
    "CB, Cumulative Bulletin\n",
    "CCA, Chief Council Advice\n",
    "CC-ITA, Chief Council - Income Tax and Accounting\n",
    "CCC, Commodity Credit Corporation\n",
    "CCP, Counter-Cyclical Program (government farm program)\n",
    "CDHP, Consumer-Driven Health Plan\n",
    "CFR, Code of Federal Regulations\n",
    "CLT, Charitable Lead Trust\n",
    "COBRA, Consolidated Omnibus Budget Reconciliations Act of 1985\n",
    "COGS, Cost of Goods Sold\n",
    "COLA, Cost of Living Adjustment\n",
    "CONUS, Continental United States\n",
    "CPI, Consurmer Price Index\n",
    "CRT, Charitable Remainder Trust\n",
    "CSRA, Community Spouse Resource Allowance\n",
    "CSRS, Civil Service Retirement System\n",
    "DOD, Date of Death\n",
    "DOI, Discharge of Indebtedness\n",
    "DP, Direct Payment (government farm program)\n",
    "DPAD, Domestic Production Activities Deduction\n",
    "DPAI, Domestic Production Activities Income\n",
    "DPAR, Domestic Production Activities Receipts\n",
    "DPGR, Domestic Production Gross Receipts\n",
    "EFIN, Electronic Filing Identification Number\n",
    "EFT, Electronic Funds Transfer\n",
    "EFTPS, Electronic Federal Tax Payment System\n",
    "EIC, Earned Income Credit\n",
    "EIN, Employer Identification Number\n",
    "f/b/o, For Benefit Of or For and On Behalf Of\n",
    "FICA, Federal Insurance Contribution Act\n",
    "FIFO, First In First Out\n",
    "FLP, Family Limited Partnership\n",
    "FMV, Fair Market Value\n",
    "FR, Federal Register\n",
    "FS, IRS Fact Sheets (example: FS-2005-10)\n",
    "FSA, Flexible Spending Account or Farm Service Agency\n",
    "FTD, Federal Tax Deposit\n",
    "FUTA, Federal Unemployment Tax Act\n",
    "GCM, General Counsel Memorandum\n",
    "GDS, General Depreciation System\n",
    "HDHP, High Deductible Health Plan\n",
    "HOH, Head of Household\n",
    "HRA, Health Reimbursement Account\n",
    "HSA, Health Savings Account\n",
    "IDC, Intangible Drilling Costs\n",
    "ILIT, Irrevocable Life Insurance Trust\n",
    "IR, IRS News Releases (example: IR-2005-2)\n",
    "IRA, Individual Retirement Arrangement\n",
    "IRB, Internal Revenue Bulletin\n",
    "IRC, Internal Revenue Code\n",
    "IRD, Income In Respect of Decedent\n",
    "IRP, Information Reporting Program\n",
    "ITA, Income Tax and Accounting\n",
    "ITIN, Individual Taxpayer Identification Number\n",
    "LDP, Loan Deficiency Payment\n",
    "LIFO, Last In First Out\n",
    "LLC, Limited Liability Company\n",
    "LLLP, Limited Liability Limited Partnership\n",
    "LP, Limited Partnership\n",
    "MACRS, Modified Accelerated Cost Recovery System\n",
    "MAGI, Modified Adjusted Gross Income\n",
    "MFJ, Married Filing Jointly\n",
    "MMMNA, Minimum Monthly Maintenance Needs Allowance\n",
    "MRD, Minimum Required Distribution\n",
    "MSA, Medical Savings Account (Archer MSA)\n",
    "MSSP, Market Segment Specialization Program\n",
    "NAICS, North American Industry Classification System\n",
    "NOL, Net Operating Loss\n",
    "OASDI, Old Age Survivor and Disability Insurance\n",
    "OIC, Offer in Compromise\n",
    "OID, Original Issue Discount\n",
    "PATR, Patronage Dividend\n",
    "PBA, Principal Business Activity\n",
    "PCP, Posted County Price, also referred to as AWP - adjusted world price\n",
    "PHC, Personal Holding Company\n",
    "PIA, Primary Insurance Amount (Social Security)\n",
    "PLR, Private Letter Ruling\n",
    "POD, Payable on Death\n",
    "PSC, Public Service Corporation\n",
    "QTIP, Qualified Terminable Interest Property\n",
    "RBD, Required Beginning Date\n",
    "REIT, Real Estate Investment Trust\n",
    "RMD, Required Minimum Distribution\n",
    "SCA, Service Center Advice\n",
    "SCIN, Self-Canceling Installment Note\n",
    "SE, Self Employment\n",
    "SEP, Simplified Employee Pension\n",
    "SIC, Service Industry Code\n",
    "SIMPLE, Savings Incentive Match Plan for Employees\n",
    "SL, Straight-Line Depreciation\n",
    "SMLLC, Single Member LLC\n",
    "SSA, Social Security Administration\n",
    "SSI, Supplemental Security Income\n",
    "SSN, Social Security Number\n",
    "SUTA, State Unemployment Tax Act\n",
    "TC, Tax Court\n",
    "TCMP, Taxpayer Compliance Measurement Program\n",
    "TD, Treasury Decision\n",
    "TIN, Taxpayer Identification Number\n",
    "TIR, Technical Information Release\n",
    "TOD, Transfer on Death\n",
    "USC, United States Code\n",
    "U/D/T, Under Declaration of Trust\n",
    "UNICAP, Uniform Capitalization Rules\n",
    "UTMA, Uniform Transfers to Minors Act\n",
    "VITA, Volunteer Income Tax Assistance\n",
    "GO Zone, Gulf Opportunity Zone\n",
    "Ct. D., Court Decision\n",
    "Ltr. Rul., Letter Rulings\n",
    "Prop. Reg., Proposed Treasury Regulations\n",
    "Pub. L., Public Law\n",
    "Rev. Proc., Revenue Procedure\n",
    "Rev. Rul., Revenue Ruling\n",
    "\"\"\""
   ]
  },
  {
   "cell_type": "markdown",
   "metadata": {},
   "source": [
    "** Add the thesaurus synonyms and the acronyms to a synonym map that can later be utilized by a search engine **"
   ]
  },
  {
   "cell_type": "code",
   "execution_count": 19,
   "metadata": {
    "collapsed": true,
    "deletable": true,
    "editable": true
   },
   "outputs": [],
   "source": [
    "OUTPUT_FILE = \"keywords_synonym.txt\"\n",
    "\n",
    "file = open(OUTPUT_FILE, 'w')\n",
    "# 1. add the acronyms: comma separated to indicate both ways relationship, e.g. \"<=>\"\n",
    "file.write(acronym_dict)\n",
    "# 2. add the synonyms: \"=>\" separated to indicate a relationship from left to right only\n",
    "for k,v in keyword_synonym_clean.items():\n",
    "    line = k.strip() + \"=>\" + ','.join(v) + \"\\n\"\n",
    "    file.write(line)\n",
    "    \n",
    "file.close()"
   ]
  },
  {
   "cell_type": "markdown",
   "metadata": {
    "deletable": true,
    "editable": true
   },
   "source": [
    "** Peek at a few synonym map entries **"
   ]
  },
  {
   "cell_type": "code",
   "execution_count": 20,
   "metadata": {
    "collapsed": false,
    "deletable": true,
    "editable": true
   },
   "outputs": [
    {
     "name": "stdout",
     "output_type": "stream",
     "text": [
      "AAA, Accumulated Adjustment Account\n",
      "Acq., Acquiescence\n",
      "ACRS, Accelerated Cost Recovery System\n",
      "ADR, Asset Depreciation Range\n",
      "ADLs, Activities of Daily Living\n",
      "organizing=>run,formulate,form,set up,create\n",
      "inheritances=>legacy,bequest,estate,heritage,devise\n",
      "reported=>recorded,noted,announced,rumored,said\n",
      "interest=>importance,significance,sympathy,passion,activity\n",
      "book=>essay,album,novel,publication,dictionary\n"
     ]
    }
   ],
   "source": [
    "%%bash\n",
    "cat keywords_synonym.txt | head -5 | less -S\n",
    "cat keywords_synonym.txt | tail -5 | less -S"
   ]
  },
  {
   "cell_type": "code",
   "execution_count": null,
   "metadata": {
    "collapsed": true,
    "deletable": true,
    "editable": true
   },
   "outputs": [],
   "source": []
  }
 ],
 "metadata": {
  "anaconda-cloud": {},
  "kernelspec": {
   "display_name": "Python 3.5",
   "language": "python",
   "name": "python3"
  },
  "language_info": {
   "codemirror_mode": {
    "name": "ipython",
    "version": 3
   },
   "file_extension": ".py",
   "mimetype": "text/x-python",
   "name": "python",
   "nbconvert_exporter": "python",
   "pygments_lexer": "ipython3",
   "version": "3.5.2"
  }
 },
 "nbformat": 4,
 "nbformat_minor": 1
}
